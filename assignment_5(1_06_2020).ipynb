{
  "nbformat": 4,
  "nbformat_minor": 0,
  "metadata": {
    "colab": {
      "name": "assignment 5(1-06-2020)",
      "provenance": []
    },
    "kernelspec": {
      "name": "python3",
      "display_name": "Python 3"
    }
  },
  "cells": [
    {
      "cell_type": "code",
      "metadata": {
        "id": "LdP818f-DRds",
        "colab_type": "code",
        "colab": {}
      },
      "source": [
        ""
      ],
      "execution_count": 0,
      "outputs": []
    },
    {
      "cell_type": "markdown",
      "metadata": {
        "id": "j4g9946CDcl0",
        "colab_type": "text"
      },
      "source": [
        "#cse-221710313047-sahith"
      ]
    },
    {
      "cell_type": "code",
      "metadata": {
        "id": "OiKurnTMDhA_",
        "colab_type": "code",
        "colab": {
          "base_uri": "https://localhost:8080/",
          "height": 84
        },
        "outputId": "76910dd2-31be-4119-c76f-b55671ad34b7"
      },
      "source": [
        "import random\n",
        "list1=[\"modeof\",\"sleepy\",\"runing\",\"seating\",\"standing\",\"writing\"]\n",
        "tup1 = [\"nihith\",\"hari\",\"madhu\",\"nani\",\"pichi\",\"jaya\"]\n",
        "import string\n",
        "string.punctuation\n",
        "\n",
        "while True:\n",
        "    st=random.choice(list1)+random.choice(tup1)+random.choice(string.punctuation)+str (random.randint(0,100))\n",
        "    print(st)\n",
        "    s=input(\"you need to genrate the new password yes or no:\")\n",
        "    s=s.lower()\n",
        "    if s==\"no\":\n",
        "        break"
      ],
      "execution_count": 1,
      "outputs": [
        {
          "output_type": "stream",
          "text": [
            "sleepynihith:80\n",
            "you need to genrate the new password yes or no:yes\n",
            "modeofpichi<79\n",
            "you need to genrate the new password yes or no:no\n"
          ],
          "name": "stdout"
        }
      ]
    },
    {
      "cell_type": "code",
      "metadata": {
        "id": "hfgg99FYDk3C",
        "colab_type": "code",
        "colab": {}
      },
      "source": [
        ""
      ],
      "execution_count": 0,
      "outputs": []
    }
  ]
}