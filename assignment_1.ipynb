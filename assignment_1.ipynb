{
  "nbformat": 4,
  "nbformat_minor": 0,
  "metadata": {
    "colab": {
      "name": "assignment 1",
      "provenance": []
    },
    "kernelspec": {
      "name": "python3",
      "display_name": "Python 3"
    }
  },
  "cells": [
    {
      "cell_type": "code",
      "metadata": {
        "id": "OcPEb0vnn9we",
        "colab_type": "code",
        "colab": {
          "base_uri": "https://localhost:8080/",
          "height": 101
        },
        "outputId": "aa1a886b-1535-4d33-8423-f7ab8c35425d"
      },
      "source": [
        "i=1\n",
        "while i<=5:\n",
        "    j=0\n",
        "    while i>j:\n",
        "        print(\"*\",end=\" \")\n",
        "        j=j+1;\n",
        "    print(end=\"\\n\")\n",
        "    i=i+1;"
      ],
      "execution_count": 1,
      "outputs": [
        {
          "output_type": "stream",
          "text": [
            "* \n",
            "* * \n",
            "* * * \n",
            "* * * * \n",
            "* * * * * \n"
          ],
          "name": "stdout"
        }
      ]
    },
    {
      "cell_type": "code",
      "metadata": {
        "id": "0EPHN7e8oKpv",
        "colab_type": "code",
        "colab": {
          "base_uri": "https://localhost:8080/",
          "height": 538
        },
        "outputId": "79d212cb-38d0-4480-ee46-29cdb9ead3bf"
      },
      "source": [
        "n=int(input(\"enter the no\"))\n",
        "i=1\n",
        "while i<=10:\n",
        "    print(n,\"X\",i,end=\"=\")\n",
        "    print(n*i)\n",
        "    print(\"\\n\")\n",
        "    i+=1"
      ],
      "execution_count": 2,
      "outputs": [
        {
          "output_type": "stream",
          "text": [
            "enter the no7\n",
            "7 X 1=7\n",
            "\n",
            "\n",
            "7 X 2=14\n",
            "\n",
            "\n",
            "7 X 3=21\n",
            "\n",
            "\n",
            "7 X 4=28\n",
            "\n",
            "\n",
            "7 X 5=35\n",
            "\n",
            "\n",
            "7 X 6=42\n",
            "\n",
            "\n",
            "7 X 7=49\n",
            "\n",
            "\n",
            "7 X 8=56\n",
            "\n",
            "\n",
            "7 X 9=63\n",
            "\n",
            "\n",
            "7 X 10=70\n",
            "\n",
            "\n"
          ],
          "name": "stdout"
        }
      ]
    },
    {
      "cell_type": "code",
      "metadata": {
        "id": "SeAAq8xQoQxE",
        "colab_type": "code",
        "colab": {
          "base_uri": "https://localhost:8080/",
          "height": 101
        },
        "outputId": "d41a1ea2-10b7-4979-d833-f5b149962fab"
      },
      "source": [
        "from math import sqrt\n",
        "\n",
        "print(\"Quadratic function : (a * x^2) + b*x + c\")\n",
        "a = float(input(\"a: \"))\n",
        "b = float(input(\"b: \"))\n",
        "c = float(input(\"c: \"))\n",
        "\n",
        "r = b**2 - 4*a*c\n",
        "\n",
        "if r > 0:\n",
        "    num_roots = 2\n",
        "    x1 = (((-b) + sqrt(r))/(2*a))     \n",
        "    x2 = (((-b) - sqrt(r))/(2*a))\n",
        "    print(x1, x2)\n",
        "elif r == 0:\n",
        "    num_roots = 1\n",
        "    x = (-b) / 2*a\n",
        "    print(\"There is one root: \", x)\n",
        "else:\n",
        "    print(- b / (2*a) , \" + i\", sqrt(r)) \n",
        "    print(- b / (2*a) , \" - i\", sqrt(r))"
      ],
      "execution_count": 3,
      "outputs": [
        {
          "output_type": "stream",
          "text": [
            "Quadratic function : (a * x^2) + b*x + c\n",
            "a: 1\n",
            "b: 4\n",
            "c: 4\n",
            "There is one root:  -2.0\n"
          ],
          "name": "stdout"
        }
      ]
    },
    {
      "cell_type": "code",
      "metadata": {
        "id": "kCwCGQSqocMf",
        "colab_type": "code",
        "colab": {
          "base_uri": "https://localhost:8080/",
          "height": 50
        },
        "outputId": "bfa169fe-600b-47cf-a2db-ea34b39c108d"
      },
      "source": [
        "\n",
        "n=int(input(\"enter the values\"))\n",
        "i=0\n",
        "s=0\n",
        "while n>0:\n",
        "    if n%2==1:\n",
        "        s=s+10**i   \n",
        "    n=n//2;\n",
        "    i+=1\n",
        "print(s)"
      ],
      "execution_count": 4,
      "outputs": [
        {
          "output_type": "stream",
          "text": [
            "enter the values4\n",
            "100\n"
          ],
          "name": "stdout"
        }
      ]
    },
    {
      "cell_type": "code",
      "metadata": {
        "id": "EPwqCGv_on7I",
        "colab_type": "code",
        "colab": {
          "base_uri": "https://localhost:8080/",
          "height": 50
        },
        "outputId": "c12696b4-a908-4943-c36a-d32b47d080e3"
      },
      "source": [
        "n=int(input(\"enter the value\"))\n",
        "a=0\n",
        "b=1\n",
        "if n==1:\n",
        "    print(a)\n",
        "elif n==2:\n",
        "    print(a,b)\n",
        "else:\n",
        "    i=3\n",
        "   \n",
        "    while i<=n:\n",
        "        c=a+b\n",
        "        if i==3:\n",
        "            print(a,b,c,end=\" \")\n",
        "        else:\n",
        "            print(c)\n",
        "        a=b\n",
        "        b=c\n",
        "        i+=1"
      ],
      "execution_count": 5,
      "outputs": [
        {
          "output_type": "stream",
          "text": [
            "enter the value4\n",
            "0 1 1 2\n"
          ],
          "name": "stdout"
        }
      ]
    },
    {
      "cell_type": "code",
      "metadata": {
        "id": "SFqj24IFoumJ",
        "colab_type": "code",
        "colab": {}
      },
      "source": [
        ""
      ],
      "execution_count": 0,
      "outputs": []
    }
  ]
}