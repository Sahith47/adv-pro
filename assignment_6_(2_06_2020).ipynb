{
  "nbformat": 4,
  "nbformat_minor": 0,
  "metadata": {
    "colab": {
      "name": "assignment 6 (2-06-2020)",
      "provenance": []
    },
    "kernelspec": {
      "name": "python3",
      "display_name": "Python 3"
    }
  },
  "cells": [
    {
      "cell_type": "code",
      "metadata": {
        "id": "FnKpu1Fqk_O6",
        "colab_type": "code",
        "colab": {}
      },
      "source": [
        ""
      ],
      "execution_count": 0,
      "outputs": []
    },
    {
      "cell_type": "markdown",
      "metadata": {
        "id": "0PbD6kjJlH_d",
        "colab_type": "text"
      },
      "source": [
        "#cse-221710313047-sahith"
      ]
    },
    {
      "cell_type": "code",
      "metadata": {
        "id": "T4kGP2VXlNTh",
        "colab_type": "code",
        "colab": {
          "base_uri": "https://localhost:8080/",
          "height": 823
        },
        "outputId": "a9adbf75-f609-4d87-c991-499983f0d85f"
      },
      "source": [
        "import random\n",
        "list1=['ackke','apple','areca','betal','chard','chive','drupe','galia','grape','mango']\n",
        "n=9\n",
        "x=5\n",
        "list3=['?','?','?','?','?']\n",
        "list2=list(random.choice(list1))\n",
        "str1=''\n",
        "for ele in list2: \n",
        "    str1 += ele \n",
        "while n!=0 and x!=0:\n",
        "    print(list3)\n",
        "    print(\"lifes left\",end=\":\")\n",
        "    for i in range(n):\n",
        "        print('♥',end=' ')\n",
        "    s=input(\"\\ngive a letter or the whole word\")\n",
        "    if len(s)>1:\n",
        "        if s==str1:\n",
        "            x=0\n",
        "        else:\n",
        "            print(\"you lose a life\")\n",
        "            n=n-1\n",
        "    else:\n",
        "        c=0\n",
        "        for i in range(len(list2)):\n",
        "            if list2[i]==s:\n",
        "                list3[i]=list2[i]\n",
        "                list2[i]=' '\n",
        "                x=x-1\n",
        "                c=1\n",
        "                break\n",
        "        if c==0:\n",
        "            print(\"you lose a life\")\n",
        "            n=n-1\n",
        "print(\"you won the secret  word %s\"%str1 if x==0 else \"lifes are over the word is %s\"%str1)\n"
      ],
      "execution_count": 1,
      "outputs": [
        {
          "output_type": "stream",
          "text": [
            "['?', '?', '?', '?', '?']\n",
            "lifes left:♥ ♥ ♥ ♥ ♥ ♥ ♥ ♥ ♥ \n",
            "give a letter or the whole worda\n",
            "['?', '?', 'a', '?', '?']\n",
            "lifes left:♥ ♥ ♥ ♥ ♥ ♥ ♥ ♥ ♥ \n",
            "give a letter or the whole words\n",
            "you lose a life\n",
            "['?', '?', 'a', '?', '?']\n",
            "lifes left:♥ ♥ ♥ ♥ ♥ ♥ ♥ ♥ \n",
            "give a letter or the whole wordd\n",
            "['?', '?', 'a', '?', 'd']\n",
            "lifes left:♥ ♥ ♥ ♥ ♥ ♥ ♥ ♥ \n",
            "give a letter or the whole words\n",
            "you lose a life\n",
            "['?', '?', 'a', '?', 'd']\n",
            "lifes left:♥ ♥ ♥ ♥ ♥ ♥ ♥ \n",
            "give a letter or the whole worda\n",
            "you lose a life\n",
            "['?', '?', 'a', '?', 'd']\n",
            "lifes left:♥ ♥ ♥ ♥ ♥ ♥ \n",
            "give a letter or the whole wordd\n",
            "you lose a life\n",
            "['?', '?', 'a', '?', 'd']\n",
            "lifes left:♥ ♥ ♥ ♥ ♥ \n",
            "give a letter or the whole wordd\n",
            "you lose a life\n",
            "['?', '?', 'a', '?', 'd']\n",
            "lifes left:♥ ♥ ♥ ♥ \n",
            "give a letter or the whole worde4\n",
            "you lose a life\n",
            "['?', '?', 'a', '?', 'd']\n",
            "lifes left:♥ ♥ ♥ \n",
            "give a letter or the whole wordf\n",
            "you lose a life\n",
            "['?', '?', 'a', '?', 'd']\n",
            "lifes left:♥ ♥ \n",
            "give a letter or the whole wordn\n",
            "you lose a life\n",
            "['?', '?', 'a', '?', 'd']\n",
            "lifes left:♥ \n",
            "give a letter or the whole wordc\n",
            "['c', '?', 'a', '?', 'd']\n",
            "lifes left:♥ \n",
            "give a letter or the whole wordh\n",
            "['c', 'h', 'a', '?', 'd']\n",
            "lifes left:♥ \n",
            "give a letter or the whole wordr\n",
            "you won the secret  word chard\n"
          ],
          "name": "stdout"
        }
      ]
    },
    {
      "cell_type": "code",
      "metadata": {
        "id": "rCKZgtOBlUfL",
        "colab_type": "code",
        "colab": {}
      },
      "source": [
        ""
      ],
      "execution_count": 0,
      "outputs": []
    }
  ]
}