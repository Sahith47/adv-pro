{
  "nbformat": 4,
  "nbformat_minor": 0,
  "metadata": {
    "colab": {
      "name": "assignment 4(30-05-2020)",
      "provenance": [],
      "collapsed_sections": []
    },
    "kernelspec": {
      "name": "python3",
      "display_name": "Python 3"
    }
  },
  "cells": [
    {
      "cell_type": "markdown",
      "metadata": {
        "id": "2ySXj5wVTsur",
        "colab_type": "text"
      },
      "source": [
        "#cse-221710313047-sahith"
      ]
    },
    {
      "cell_type": "code",
      "metadata": {
        "id": "gIh4MscLTB4h",
        "colab_type": "code",
        "colab": {}
      },
      "source": [
        "f=open(\"ss.txt\",\"w\")\n",
        "f.write(\"hello everyone\")\n",
        "f.close()"
      ],
      "execution_count": 0,
      "outputs": []
    },
    {
      "cell_type": "code",
      "metadata": {
        "id": "tSYpyTtGTHOF",
        "colab_type": "code",
        "colab": {
          "base_uri": "https://localhost:8080/",
          "height": 67
        },
        "outputId": "5a949aa4-f0f4-4bde-e7cc-972309ffbf07"
      },
      "source": [
        "# Count the no.of words,no.of letters,no.of lines available in your file\n",
        "\n",
        "\n",
        "with open('ss.txt') as infile:\n",
        "    lines=0\n",
        "    words=0\n",
        "    characters=0\n",
        "    for line in infile:\n",
        "        wordslist=line.split()\n",
        "        lines=lines+1\n",
        "        words=words+len(wordslist)\n",
        "        characters += sum(len(word) for word in wordslist)\n",
        "print(lines)\n",
        "print(words)\n",
        "print(characters)"
      ],
      "execution_count": 2,
      "outputs": [
        {
          "output_type": "stream",
          "text": [
            "1\n",
            "2\n",
            "13\n"
          ],
          "name": "stdout"
        }
      ]
    },
    {
      "cell_type": "code",
      "metadata": {
        "id": "BcpTC0VNTMc5",
        "colab_type": "code",
        "colab": {}
      },
      "source": [
        "# Copy the content of one file to another\n",
        "\n",
        "with open(\"ss.txt\") as f:\n",
        "    with open(\"cap.txt\", \"w\") as f1:\n",
        "        for line in f:\n",
        "            f1.write(line)"
      ],
      "execution_count": 0,
      "outputs": []
    },
    {
      "cell_type": "code",
      "metadata": {
        "id": "uCEH3naATPZ7",
        "colab_type": "code",
        "colab": {
          "base_uri": "https://localhost:8080/",
          "height": 34
        },
        "outputId": "ba06f218-83af-45b9-bc35-32b4d87fa65e"
      },
      "source": [
        "# Copy the content of one file to another\n",
        "\n",
        "f=open(\"cap.txt\",\"r\")\n",
        "data=f.read()\n",
        "print(data)\n",
        "f.close()"
      ],
      "execution_count": 4,
      "outputs": [
        {
          "output_type": "stream",
          "text": [
            "hello everyone\n"
          ],
          "name": "stdout"
        }
      ]
    },
    {
      "cell_type": "code",
      "metadata": {
        "id": "dRbpvEiUTSwm",
        "colab_type": "code",
        "colab": {}
      },
      "source": [
        "# Rename file\n",
        "import os\n",
        "os.rename( \"cap.txt\", \"test1.txt\" )"
      ],
      "execution_count": 0,
      "outputs": []
    },
    {
      "cell_type": "code",
      "metadata": {
        "id": "ilwsu3kcTW6x",
        "colab_type": "code",
        "colab": {
          "base_uri": "https://localhost:8080/",
          "height": 34
        },
        "outputId": "bcefddd3-6689-4cd3-bef9-51afa6462336"
      },
      "source": [
        "\n",
        "f=open(\"test1.txt\",\"r\")\n",
        "data=f.read()\n",
        "print(data)\n",
        "f.close()"
      ],
      "execution_count": 6,
      "outputs": [
        {
          "output_type": "stream",
          "text": [
            "hello everyone\n"
          ],
          "name": "stdout"
        }
      ]
    },
    {
      "cell_type": "code",
      "metadata": {
        "id": "EAYaXmsPTZm_",
        "colab_type": "code",
        "colab": {}
      },
      "source": [
        "# remove file\n",
        "import os\n",
        "os.remove(\"test1.txt\")"
      ],
      "execution_count": 0,
      "outputs": []
    },
    {
      "cell_type": "code",
      "metadata": {
        "id": "-qXnWilfTcgi",
        "colab_type": "code",
        "colab": {
          "base_uri": "https://localhost:8080/",
          "height": 67
        },
        "outputId": "48e4f425-bd6d-409e-ffa6-2948a9b76cba"
      },
      "source": [
        "#Display the words starting with letter 'p'\n",
        "l=['pencil','pen','potato','orange','apple','mango']\n",
        "for i in l:\n",
        "    if i.startswith(\"p\"):\n",
        "        print(i)"
      ],
      "execution_count": 8,
      "outputs": [
        {
          "output_type": "stream",
          "text": [
            "pencil\n",
            "pen\n",
            "potato\n"
          ],
          "name": "stdout"
        }
      ]
    },
    {
      "cell_type": "code",
      "metadata": {
        "id": "pgYnnVM3Tg24",
        "colab_type": "code",
        "colab": {}
      },
      "source": [
        ""
      ],
      "execution_count": 0,
      "outputs": []
    }
  ]
}